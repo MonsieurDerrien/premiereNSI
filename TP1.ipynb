{
 "cells": [
  {
   "cell_type": "markdown",
   "metadata": {},
   "source": [
    "# Langages et programmation séquence 1 : notion de variable\n",
    "## Partie 1 : nom, valeur et initialisation\n",
    "Supposons que, pour mesurer, nous ne disposions que de 3 règles non graduées :\n",
    "- Une règle en plastique de 126 cm ;\n",
    "\n",
    "    ![](./regle_plastique.jpg)\n",
    "- Une règle en bois de 174 cm ;\n",
    "\n",
    "    ![](./regle_bois.jpg)\n",
    "- Une règle en fer de 330 cm.\n",
    "\n",
    "    ![](./regle_fer.jpg)\n",
    "\n",
    "Toutes ces règles sont de la même épaisseur : 27 cm.\n",
    "\n",
    "À l’aide de ces règles, on prend les mesures d’une pièce rectangulaire. Voilà ce qu’on obtient :\n",
    "\n",
    "![](./perimetre.jpg)\n",
    "\n",
    "1. Parmi les expressions ci-dessous, quelle est celle qui donne le bon périmètre ? <span style=\"color: #FF0000\">(1 point)</span>"
   ]
  },
  {
   "cell_type": "markdown",
   "metadata": {},
   "source": [
    "<div>\n",
    "  <input type=\"radio\" name=\"reponse\">\n",
    "  <label for=\"reponse_A\">(330 + 330 + 330 + 174) × 2 + (330 + 174 + 126 + 126) × 2</label>\n",
    "</div>\n",
    "<div>\n",
    "  <input type=\"radio\" name=\"reponse\">\n",
    "  <label for=\"reponse_B\">(3 × 330 + 174 + 330 + 174 + 126 × 2) × 2</label>\n",
    "</div>\n",
    "<div>\n",
    "  <input type=\"radio\" name=\"reponse\">\n",
    "  <label for=\"reponse_C\">(330 × 3 + 174) × 2 + (330 + 174 + 126 × 2 + 27 × 2) × 2</label>\n",
    "</div>"
   ]
  },
  {
   "cell_type": "markdown",
   "metadata": {},
   "source": [
    "2.  Regarder cette vidéo (écrire un programme et l'exécuter dans un notebook)."
   ]
  },
  {
   "cell_type": "markdown",
   "metadata": {},
   "source": [
    "3.\tÉcrire un programme en langage Python qui affiche en sortie le périmètre de cette maison.\n",
    "    Ce programme ne devra contenir qu’une seule ligne de code. <span style=\"color: #FF0000\">(1 point)</span>\n"
   ]
  },
  {
   "cell_type": "code",
   "execution_count": null,
   "metadata": {},
   "outputs": [],
   "source": []
  },
  {
   "cell_type": "markdown",
   "metadata": {},
   "source": [
    "4. * Regarder cette [vidéo](https://youtu.be/EYzuZ-oTy1A) [\\(autre lien\\)](https://drive.google.com/file/d/1968GWYnxxolFBvE5wAnC7XJHT5m5iHQW/view?usp=sharing) (création et initialisation d'une variable).\n",
    "   * Regarder cette [vidéo](https://www.docstring.fr/formations/les-variables/regles-et-conventions-de-nommage-1117/?tab=summary) (règles de nommage d'une variable).\n",
    "   * Regarder cette vidéo (rôle des commentaires).\n",
    "   * Écrire un programme en langage Python qui affiche en sortie le périmètre de cette maison.<br>\n",
    "   Ce programme devra contenir 5 variables bien nommées et initialisées ainsi qu’un commentaire éclairant. <span style=\"color: #FF0000\">(2,5 points)</span>\n"
   ]
  },
  {
   "cell_type": "code",
   "execution_count": null,
   "metadata": {},
   "outputs": [],
   "source": []
  },
  {
   "cell_type": "markdown",
   "metadata": {},
   "source": [
    "5.\tComparaison des programmes de la question 3 et de la question 4.\n",
    "    * Quel est le programme qui sera compris le plus facilement par une personne ne l’ayant pas écrit ? Pourquoi (deux raisons attendues) ? <span style=\"color:#FF0000\">(2 points)</span>"
   ]
  },
  {
   "cell_type": "raw",
   "metadata": {},
   "source": []
  },
  {
   "cell_type": "markdown",
   "metadata": {},
   "source": [
    "* Si l’on doit modifier la longueur des règles (plastique, bois et fer), quel est le programme qui sera le plus facilement modifiable ? Pourquoi ? <span style=\"color:#FF0000\">(1 point)</span>"
   ]
  },
  {
   "cell_type": "raw",
   "metadata": {},
   "source": []
  },
  {
   "cell_type": "markdown",
   "metadata": {},
   "source": [
    "* Si l’on doit faire évoluer nos programmes en utilisant plus tard le périmètre calculé, quel est le programme qu’on pourra le plus facilement faire évoluer ? Pourquoi ? <span style=\"color:#FF0000\">(1 point)</span>"
   ]
  },
  {
   "cell_type": "raw",
   "metadata": {},
   "source": []
  },
  {
   "cell_type": "markdown",
   "metadata": {},
   "source": [
    "<style>\n",
    "    p {\n",
    "        color  : #FF0000;\n",
    "        border : 1px solid #06721C;\n",
    "        border-radius: 3px 3px 3px 3px;\n",
    "        padding: 3px 3px 3px 3px;\n",
    "        width: 800px;\n",
    "        height: 80px;\n",
    "        text-align: justify;\n",
    "        position: absolute;\n",
    "        left: 200px;\n",
    "        top: 25px;\n",
    "    }\n",
    "    \n",
    "    img {\n",
    "        width: 150px;\n",
    "        height: 150px;\n",
    "        float: left;\n",
    "    }\n",
    "</style>\n",
    "\n",
    "<span>\n",
    "    <img src=\"./AdobeStock_109650019.jpeg\">\n",
    "</span>\n",
    "<p>\n",
    "    Un programme doit être <strong><u>lisible</u></strong>, <strong><u>facilement modifiable</u></strong> et <strong><u>évolutif</u></strong>.<br>\n",
    "    Le choix du <strong><u>nombre de variables</u></strong>, de <strong><u>leurs noms</u></strong> et des <strong><u>commentaires qui éclairent</u></strong> certaines parties du code constituent, entre autres,\n",
    "    <strong><u>de bons outils</u></strong> pour y parvenir.\n",
    "</p>\n"
   ]
  },
  {
   "cell_type": "markdown",
   "metadata": {},
   "source": [
    "### Je m'évalue\n",
    "#### Exercice 1 <span style=\"color: red\">(4 points)</span>\n",
    "Compléter le tableau suivant (une [page web](https://code-garage.fr/blog/convention-nommage-kebab-case-snake-case-et-autres/) à consulter)"
   ]
  },
  {
   "cell_type": "markdown",
   "metadata": {},
   "source": [
    "<style>\n",
    "    table{\n",
    "    caption-side: bottom;\n",
    "    table-layout: fixed;\n",
    "    }\n",
    "    th, td{\n",
    "    border: 1px solid rgb(69, 99, 236);\n",
    "    padding: 10px;\n",
    "    width: 200px;\n",
    "    color: rgb(52, 93, 204);\n",
    "    }\n",
    "</style>\n",
    "<table>\n",
    "    <thead>\n",
    "        <tr><th>snake_case</th><th>camelCase</th><th>Contenu de la variable</th></tr>\n",
    "    </thead>\n",
    "    <tbody>\n",
    "        <tr>\n",
    "            <td><form><p><input type=\"text\" value=\"nb\" disabled=\"disabled\"/></p></form></td>\n",
    "            <td><form><p><input type=\"text\" value=\"nb\" disabled=\"disabled\"/></p></form></td>\n",
    "            <td><form><p><input type=\"text\" value=\"un nombre\" disabled=\"disabled\"/></p></form></td>\n",
    "        </tr>\n",
    "        <tr>\n",
    "            <td><form><p><input type=\"text\" value=\"prix_courses\" disabled=\"disabled\"/></p></form></td>\n",
    "            <td><form><p><input type=\"text\"/></p></form></td>\n",
    "            <td><form><p><input type=\"text\" value=\"prix des courses\" disabled=\"disabled\"/></p></form></td>\n",
    "        </tr>\n",
    "        <tr>\n",
    "            <td><form><p><input type=\"text\" value=\"age_u\" disabled=\"disabled\"/></p></form></td>\n",
    "            <td><form><p><input type=\"text\"/></p></form></td>\n",
    "            <td><form><p><input type=\"text\" value=\"age de l'utilisateur(trice)\" disabled=\"disabled\"/></p></form></td>\n",
    "        </tr>\n",
    "        <tr>\n",
    "            <td><form><p><input type=\"text\" value=\"user_id\" disabled=\"disabled\"/></p></form></td>\n",
    "            <td><form><p><input type=\"text\"/></p></form></td>\n",
    "            <td><form><p><input type=\"text\"/></p></form></td>\n",
    "        </tr>\n",
    "        <tr>\n",
    "            <td><form><p><input type=\"text\"/></p></form></td>\n",
    "            <td><form><p><input type=\"text\" value=\"nbTours\" disabled=\"disabled\"/></p></form></td>\n",
    "            <td><form><p><input type=\"text\"/></p></form></td>\n",
    "        </tr>\n",
    "        <tr>\n",
    "            <td><form><p><input type=\"text\" value=\"somme\" disabled=\"disabled\"/></p></form></td>\n",
    "            <td><form><p><input type=\"text\"/></p></form></td>\n",
    "            <td><form><p><input type=\"text\"/></p></form></td>\n",
    "        </tr>\n",
    "        <tr>\n",
    "            <td><form><p><input type=\"text\" value=\"id_produit\" disabled=\"disabled\"/></p></form></td>\n",
    "            <td><form><p><input type=\"text\"/></p></form></td>\n",
    "            <td><form><p><input type=\"text\"/></p></form></td>\n",
    "        </tr>\n",
    "        <tr>\n",
    "            <td><form><p><input type=\"text\" value=\"temp\" disabled=\"disabled\"/></p></form></td>\n",
    "            <td><form><p><input type=\"text\"/></p></form></td>\n",
    "            <td><form><p><input type=\"text\" size=\"30\" value=\"variable servant de stockage temporaire\" disabled=\"disabled\"/></p></form></td>\n",
    "        </tr>\n",
    "        <tr>\n",
    "            <td><form><p><input type=\"text\"/></p></form></td>\n",
    "            <td><form><p><input type=\"text\" value=\"currentId\" disabled=\"disabled\"/></p></form></td>\n",
    "            <td><form><p><input type=\"text\" size=\"21\" value=\"valeur courante de l'identifiant\" disabled=\"disabled\"/></p></form></td>\n",
    "        </tr>\n",
    "        <tr>\n",
    "            <td><form><p><input type=\"text\"/></p></form></td>\n",
    "            <td><form><p><input type=\"text\" value=\"idPrec\" disabled=\"disabled\"/></p></form></td>\n",
    "            <td><form><p><input type=\"text\"/></p></form></td>\n",
    "        </tr>\n",
    "        <tr>\n",
    "            <td><form><p><input type=\"text\"/></p></form></td>\n",
    "            <td><form><p><input type=\"text\" value=\"nextId\" disabled=\"disabled\"/></p></form></td>\n",
    "            <td><form><p><input type=\"text\"/></p></form></td>\n",
    "        </tr>\n",
    "        <tr>\n",
    "            <td><form><p><input type=\"text\" value=\"next_step\" disabled=\"disabled\"/></p></form></td>\n",
    "            <td><form><p><input type=\"text\"/></p></form></td>\n",
    "            <td><form><p><input type=\"text\"/></p></form></td>\n",
    "        </tr>\n",
    "        <tr>\n",
    "            <td><form><p><input type=\"text\"/></p></form></td>\n",
    "            <td><form><p><input type=\"text\" value=\"userName\" disabled=\"disabled\"/></p></form></td>\n",
    "            <td><form><p><input type=\"text\"/></p></form></td>\n",
    "        </tr>\n",
    "        <tr>\n",
    "            <td><form><p><input type=\"text\" value=\"res\" disabled=\"disabled\"/></p></form></td>\n",
    "            <td><form><p><input type=\"text\"/></p></form></td>\n",
    "            <td><form><p><input type=\"text\" value=\"résultat\" disabled=\"disabled\"/></p></form></td>\n",
    "        </tr>\n",
    "        <tr>\n",
    "            <td><form><p><input type=\"text\" value=\"step\" disabled=\"disabled\"/></p></form></td>\n",
    "            <td><form><p><input type=\"text\"/></p></form></td>\n",
    "            <td><form><p><input type=\"text\" value=\"pas\" disabled=\"disabled\"/></p></form></td>\n",
    "        </tr>\n",
    "        <tr>\n",
    "            <td><form><p><input type=\"text\"/></p></form></td>\n",
    "            <td><form><p><input type=\"text\"/></p></form></td>\n",
    "            <td><form><p><input type=\"text\" value=\"nombre entier\" disabled=\"disabled\"/></p></form></td>\n",
    "        </tr>\n",
    "    </tbody>\n",
    "</table>"
   ]
  },
  {
   "cell_type": "markdown",
   "metadata": {},
   "source": [
    "#### Exercice 2 <span style=\"color: red\">(4 points)</span>\n",
    "Parmi les noms de variables ci-dessous, cocher ceux qui ne lèveront pas une exception de type <span style=\"color: red\">NameError</span> ou <span style=\"color: red\">SyntaxError</span>.\n",
    "<div>\n",
    "  <input type=\"checkbox\" name=\"reponse\">\n",
    "  <label for=\"nom1\">placide&muso</label>\n",
    "</div>\n",
    "<div>\n",
    "  <input type=\"checkbox\" name=\"reponse\">\n",
    "  <label for=\"nom2\">somme1</label>\n",
    "</div>\n",
    "<div>\n",
    "  <input type=\"checkbox\" name=\"reponse\">\n",
    "  <label for=\"nom3\">la moyenne</label>\n",
    "</div>\n",
    "<div>\n",
    "  <input type=\"checkbox\" name=\"reponse\">\n",
    "  <label for=\"nom4\">une_variable</label>\n",
    "</div>\n",
    "<div>\n",
    "  <input type=\"checkbox\" name=\"reponse\">\n",
    "  <label for=\"nom5\">Variable</label>\n",
    "</div>\n",
    "<div>\n",
    "  <input type=\"checkbox\" name=\"reponse\">\n",
    "  <label for=\"nom6\">Nomdevariable</label>\n",
    "</div>\n",
    "<div>\n",
    "  <input type=\"checkbox\" name=\"reponse\">\n",
    "  <label for=\"nom7\">stop</label>\n",
    "</div>\n",
    "<div>\n",
    "  <input type=\"checkbox\" name=\"reponse\">\n",
    "  <label for=\"nom8\">2eme_element</label>\n",
    "</div>\n",
    "<div>\n",
    "  <input type=\"checkbox\" name=\"reponse\">\n",
    "  <label for=\"nom9\">n_carré</label>\n",
    "</div>\n",
    "<div>\n",
    "  <input type=\"checkbox\" name=\"reponse\">\n",
    "  <label for=\"nom10\">total</label>\n",
    "</div>\n",
    "<div>\n",
    "  <input type=\"checkbox\" name=\"reponse\">\n",
    "  <label for=\"nom11\">_404</label>\n",
    "</div>\n",
    "<div>\n",
    "  <input type=\"checkbox\" name=\"reponse\">\n",
    "  <label for=\"nom12\">new</label>\n",
    "</div>\n",
    "<div>\n",
    "  <input type=\"checkbox\" name=\"reponse\">\n",
    "  <label for=\"nom13\">id</label>\n",
    "</div>"
   ]
  },
  {
   "cell_type": "markdown",
   "metadata": {},
   "source": [
    "#### Exercice 3 <span style=\"color: red\">(4 points)</span>\n",
    "Pour chacun des problèmes suivants, faire une proposition de variables judicieusement nommées. Il n’est pas demandé de résoudre ces problèmes, ni d’en donner des entrées-sorties."
   ]
  },
  {
   "cell_type": "markdown",
   "metadata": {},
   "source": [
    "*   ##### Problème 1\n",
    "L’utilisateur entre deux nombres. Le programme affiche le résultat de leur multiplication."
   ]
  },
  {
   "cell_type": "raw",
   "metadata": {},
   "source": []
  },
  {
   "cell_type": "markdown",
   "metadata": {},
   "source": [
    "*   ##### Problème 2\n",
    "L’utilisateur entre 3 notes. Le programme affiche la note maximale, la note minimale et la moyenne de ces 3 notes."
   ]
  },
  {
   "cell_type": "raw",
   "metadata": {},
   "source": []
  },
  {
   "cell_type": "markdown",
   "metadata": {},
   "source": [
    "*   ##### Problème 3\n",
    "L’utilisateur entre le prix hors taxe d’un produit et l’identifiant de ce produit. Le programme affiche le prix du produit, octroi de mer compris."
   ]
  },
  {
   "cell_type": "raw",
   "metadata": {},
   "source": []
  },
  {
   "cell_type": "markdown",
   "metadata": {},
   "source": [
    "*   ##### Problème 4\n",
    "Le programme pose 3 questions à l’utilisateur(trice). Une bonne réponse fait gagner 1 point, une mauvaise réponse fait perdre 1 point.<br>\n",
    "Quand l’utilisateur a donné ses 3 réponses, le programme affiche le score."
   ]
  },
  {
   "cell_type": "raw",
   "metadata": {},
   "source": []
  },
  {
   "cell_type": "markdown",
   "metadata": {},
   "source": [
    "#### Exercice 4 <span style=\"color: red\">(4 points)</span>\n",
    "Une école est formée de 4 classes, constituées respectivement de 25, 30, 27 et 22 élèves. Cependant, 8 élèves sont absents aujourd'hui.<br>\n",
    "Sachant que chaque élève présent doit recevoir 3 bonbons, écrivez un programme qui calcule puis affiche le nombre total de bonbons nécessaires.<br>\n",
    "Ce programme devra être lisible, simplement modifiable et évolutif. Il devra, of course, s’exécuter sans lever d’exception."
   ]
  },
  {
   "cell_type": "code",
   "execution_count": null,
   "metadata": {},
   "outputs": [],
   "source": []
  },
  {
   "cell_type": "markdown",
   "metadata": {},
   "source": [
    "## Partie 2 : type"
   ]
  },
  {
   "cell_type": "markdown",
   "metadata": {},
   "source": [
    "<style>\n",
    "    p {\n",
    "        color  : #FF0000;\n",
    "        border : 1px solid #06721C;\n",
    "        border-radius: 3px 3px 3px 3px;\n",
    "        padding: 3px 3px 3px 3px;\n",
    "        width: 800px;\n",
    "        height: 60px;\n",
    "        text-align: justify;\n",
    "        position: absolute;\n",
    "        left: 200px;\n",
    "        top: 40px;\n",
    "    }\n",
    "    \n",
    "    img {\n",
    "        width: 150px;\n",
    "        height: 150px;\n",
    "        float: left;\n",
    "    }\n",
    "</style>\n",
    "\n",
    "<span>\n",
    "    <img src=\"./AdobeStock_109650019.jpeg\">\n",
    "</span>\n",
    "<p>\n",
    "    Une <strong><u>variable stocke une donnée</strong></u>. Cette <strong><u>donnée</strong></u> est <strong><u>appelée une valeur</strong></u>. <strong><u>En python</strong></u>, <strong><u>les valeurs sont classées selon leur type</strong></u> (nombre entier, nombre à virgule, etc.).\n",
    "</p>"
   ]
  },
  {
   "cell_type": "markdown",
   "metadata": {},
   "source": [
    "Dans ce langage, il existe trois types de base :\n",
    "* <span style=\"color: green\"><strong><u>int</strong></u></span> pour integer (nombre entier) : 2 ; ‒5 ; 0 ; 1145872145 ; etc.\n",
    "* <span style=\"color: green\"><strong><u>float</strong></u></span> pour nombre flottant (nombre à virgule) : 2.5 ; 0.33333 ; 1/2 ; etc.\n",
    "* <span style=\"color: green\"><strong><u>bool</strong></u></span> pour boolean (booléen in french) : True ; False."
   ]
  },
  {
   "cell_type": "markdown",
   "metadata": {},
   "source": [
    "Le type <span style=\"color: green\"><strong><u>str</strong></u></span> pour string (chaîne de caractères in french) n’est pas un type de base, c’est un type structuré.<br>\n",
    "Toute expression placée entre ' ' ou '' '' est de type <span style=\"color: green\"><strong><u>str</strong></u></span> :\n",
    "\"blablabla\" ; \"12\" ; 'la vache fait meuuuuuuhhhhhhh !!!!! et un élève fait aaaaahhhhhh !!!!!    ' ; etc\n"
   ]
  },
  {
   "cell_type": "markdown",
   "metadata": {},
   "source": [
    "<style>\n",
    "    p {\n",
    "        color  : #FF0000;\n",
    "        border : 1px solid #06721C;\n",
    "        border-radius: 3px 3px 3px 3px;\n",
    "        padding: 3px 3px 3px 3px;\n",
    "        width: 800px;\n",
    "        height: 100px;\n",
    "        text-align: justify;\n",
    "        position: absolute;\n",
    "        left: 200px;\n",
    "        top: 10px;\n",
    "    }\n",
    "    \n",
    "    img {\n",
    "        width: 150px;\n",
    "        height: 150px;\n",
    "        float: left;\n",
    "    }\n",
    "</style>\n",
    "\n",
    "<span>\n",
    "    <img src=\"./AdobeStock_109650019.jpeg\">\n",
    "</span>\n",
    "<p>\n",
    "    Tous les <strong><u>nombres entiers</strong></u> sont des valeurs de <strong><u>type int</strong></u>.<br>\n",
    "    Tous les <strong><u>nombres à virgule</strong></u> sont des valeurs de <strong><u>type float</strong></u>.<br>\n",
    "    <strong><u>True</strong></u> et <strong><u>False</strong></u> sont des <strong><u>valeurs booléennes, de type bool</strong></u>. Ce sont <strong><u>les deux seules valeurs booléennes</strong></u>.<br>\n",
    "    Toutes les expressions (même les nombres) <strong><u>placées entre ' ' ou entre \" \"</strong></u> sont de <strong><u>type str</strong></u>.\n",
    "\n",
    "</p>"
   ]
  },
  {
   "cell_type": "markdown",
   "metadata": {},
   "source": [
    "1.\tLa fonction <span style=\"color: green\">type( )</span> renvoie le type de la valeur placée en argument ou de la valeur de la variable placée en argument.\n",
    "    Deviner la sortie qui sera affichée par chacune des instructions suivantes puis vérifier en les recopiant dans la cellule de code : <span style=\"color: red\">(1 point)</span>\n",
    "*   <span style=\"color: green\">type(</span>8<span style=\"color: green\">)</span>\n",
    "*   <span style=\"color: green\">type(</span>11/7<span style=\"color: green\">)</span>\n",
    "*   <span style=\"color: green\">type(</span>8 < 9<span style=\"color: green\">)</span>\n",
    "*   <span style=\"color: green\">type(</span>6.25<span style=\"color: green\">)</span>\n",
    "*   <span style=\"color: green\">type(</span>9 < 8<span style=\"color: green\">)</span>\n",
    "*   <span style=\"color: green\">type(</span>-9<span style=\"color: green\">)</span>\n",
    "*   <span style=\"color: green\">type(</span>True<span style=\"color: green\">)</span>\n",
    "*   <span style=\"color: green\">type(</span>False<span style=\"color: green\">)</span>\n"
   ]
  },
  {
   "cell_type": "markdown",
   "metadata": {},
   "source": [
    "Taper ici les types de chacune des valeurs ci-dessus en essayant de les deviner sans aide :"
   ]
  },
  {
   "cell_type": "raw",
   "metadata": {},
   "source": []
  },
  {
   "cell_type": "code",
   "execution_count": null,
   "metadata": {},
   "outputs": [],
   "source": [
    "# Recopier dans cette cellule toutes les instructions ci-dessus en les plaçant dans une fonction print( ) puis exécute-les afin de vérifier que tes suppositions étaient exactes\n",
    "print(type(8))\n",
    "print(type(11/7))"
   ]
  },
  {
   "cell_type": "markdown",
   "metadata": {},
   "source": [
    "2. Exécuter le code ci-dessous."
   ]
  },
  {
   "cell_type": "code",
   "execution_count": null,
   "metadata": {},
   "outputs": [],
   "source": [
    "var = 6 + 8 * 1.5\n",
    "print(type(var))"
   ]
  },
  {
   "cell_type": "markdown",
   "metadata": {},
   "source": [
    "Expliquer pourquoi la variable var est de type <span style=\"color: green\">float</span>. <span style=\"color: red\">(1 point)</span>"
   ]
  },
  {
   "cell_type": "raw",
   "metadata": {},
   "source": []
  },
  {
   "cell_type": "markdown",
   "metadata": {},
   "source": [
    "3. Exécuter le code ci-dessous."
   ]
  },
  {
   "cell_type": "code",
   "execution_count": null,
   "metadata": {},
   "outputs": [],
   "source": [
    "var1 = 6\n",
    "var2 = -6\n",
    "comp = var1 > var2\n",
    "print(type(comp))"
   ]
  },
  {
   "cell_type": "markdown",
   "metadata": {},
   "source": [
    "Expliquer pourquoi la variable var est de type <span style=\"color: green\">bool</span>. <span style=\"color: red\">(2 points)</span>"
   ]
  },
  {
   "cell_type": "raw",
   "metadata": {},
   "source": []
  },
  {
   "cell_type": "markdown",
   "metadata": {},
   "source": [
    "4. Exécuter le code ci-dessous."
   ]
  },
  {
   "cell_type": "code",
   "execution_count": null,
   "metadata": {},
   "outputs": [],
   "source": [
    "print(type(8//6))\n",
    "print(type(8/6))"
   ]
  },
  {
   "cell_type": "markdown",
   "metadata": {},
   "source": [
    "Expliquer pourquoi les valeurs 8//6 et 8/6 ne sont pas du même type. <span style=\"color: red\">(2 points)</span>"
   ]
  },
  {
   "cell_type": "raw",
   "metadata": {},
   "source": []
  },
  {
   "cell_type": "markdown",
   "metadata": {},
   "source": [
    "5. Exécuter le code ci-dessous."
   ]
  },
  {
   "cell_type": "code",
   "execution_count": null,
   "metadata": {},
   "outputs": [],
   "source": [
    "print(type('42'))\n",
    "print(type(42))"
   ]
  },
  {
   "cell_type": "markdown",
   "metadata": {},
   "source": [
    "Expliquer pourquoi les valeurs '42' et 42 ne sont pas du même type. <span style=\"color: red\">(1 point)</span>"
   ]
  },
  {
   "cell_type": "raw",
   "metadata": {},
   "source": []
  },
  {
   "cell_type": "markdown",
   "metadata": {},
   "source": [
    "6. Exécuter le code ci-dessous."
   ]
  },
  {
   "cell_type": "code",
   "execution_count": null,
   "metadata": {},
   "outputs": [],
   "source": [
    "somme = '1' + 2\n",
    "print(somme)"
   ]
  },
  {
   "cell_type": "markdown",
   "metadata": {},
   "source": [
    "Expliquer pourquoi le programme lève une exception. <span style=\"color: red\">(1 point)</span>"
   ]
  },
  {
   "cell_type": "markdown",
   "metadata": {},
   "source": [
    "7. Exécuter le code ci-dessous."
   ]
  },
  {
   "cell_type": "code",
   "execution_count": null,
   "metadata": {},
   "outputs": [],
   "source": [
    "somme = '1' + '2'\n",
    "print(somme)"
   ]
  },
  {
   "cell_type": "markdown",
   "metadata": {},
   "source": [
    "Expliquer la sortie du programme. <span style=\"color: red\">(1 point)</span>"
   ]
  },
  {
   "cell_type": "markdown",
   "metadata": {},
   "source": [
    "## Partie 3 : affectation"
   ]
  },
  {
   "cell_type": "markdown",
   "metadata": {},
   "source": [
    "1. Regarder cette vidéo (affectation d'une variable)."
   ]
  },
  {
   "cell_type": "markdown",
   "metadata": {},
   "source": [
    "<style>\n",
    "    p {\n",
    "        color  : #FF0000;\n",
    "        border : 1px solid #06721C;\n",
    "        border-radius: 3px 3px 3px 3px;\n",
    "        padding: 3px 3px 3px 3px;\n",
    "        width: 800px;\n",
    "        height: 120px;\n",
    "        text-align: justify;\n",
    "        position: absolute;\n",
    "        left: 200px;\n",
    "    }\n",
    "    \n",
    "    img {\n",
    "        width: 150px;\n",
    "        height: 150px;\n",
    "        float: left;\n",
    "    }\n",
    "</style>\n",
    "\n",
    "<span>\n",
    "    <img src=\"./AdobeStock_109650019.jpeg\">\n",
    "</span>\n",
    "<p>\n",
    "    En programmation, l'<strong><u>affectation d'une variable</strong></u> consiste à lui <strong><u>attribuer une valeur</strong></u> à l'aide de l'<strong><u>opérateur d'affectation \"=\"</strong></u>. Le symbole \"=\" n'a donc <strong><u>pas le même sens qu'en mathématiques</strong></u>.<br>\n",
    "    La <strong><u>valeur</strong></u> devra toujours être située <strong><u>à droite du \"=\"</strong></u> tandis que le <strong><u>nom de la variable</strong></u> sera toujours situé <strong><u>à gauche du \"=\"</strong></u> : ma_variable = valeur.<br>\n",
    "    <strong><u>Une affectation se lit de la droite vers la gauche</strong></u>. La valeur est stockée dans la variable et non l'inverse.\n",
    "</p> "
   ]
  },
  {
   "cell_type": "markdown",
   "metadata": {},
   "source": [
    "<style>\n",
    "    img {\n",
    "        width: 150px;\n",
    "        height: 150px\":\n",
    "    }\n",
    "</style>\n",
    "<img src=\"./learn_to_code.jpeg\">"
   ]
  },
  {
   "cell_type": "code",
   "execution_count": null,
   "metadata": {},
   "outputs": [],
   "source": [
    "# affectation correcte de la valeur 5 à la variable var\n",
    "var = 5\n",
    "print(var)"
   ]
  },
  {
   "cell_type": "code",
   "execution_count": null,
   "metadata": {},
   "outputs": [],
   "source": [
    "# une affectation incorrecte lève une exception de type SyntaxError\n",
    "5 = var"
   ]
  },
  {
   "cell_type": "markdown",
   "metadata": {},
   "source": [
    "2.\tToute information doit être stockée dans une variable sous peine d'être perdue. Les entrées d'un programme devront donc toujours être affectées à des variables.\n",
    "    <br>\n",
    "    En langage Python, la fonction qui permet de récupérer les entrées est la fonction <span style=\"color: green\">input( )</span>.<br>\n",
    "    Regarder cette vidéo (fonction <span style=\"color: green\">input( )</span>).\n",
    "\n",
    "3.  Regarder cette vidéo (exception de type <span style=\"color: red\">NameError</span>)\n"
   ]
  },
  {
   "cell_type": "markdown",
   "metadata": {},
   "source": [
    "<style>\n",
    "    .Entrées {\n",
    "        color: blue;        \n",
    "    }\n",
    "    .Sorties {\n",
    "        color: red;\n",
    "    }\n",
    "    th, td{\n",
    "    padding: 10px;\n",
    "    width: 100px;\n",
    "    }\n",
    "</style>\n",
    "### Je m'évalue\n",
    "#### Exercice 1 <span style=\"color: red\">(4 points)</span>\n",
    "1.\tÉcrire un programme en langage Python correspondant au programme de calculs suivant.  \n",
    "    Le programme ne devra gérer que les cas d'entrées courants (pas de cas limite).\n",
    "    <br>\n",
    "    <br> \n",
    "    *   Choisir un nombre entier ;\n",
    "    *   Lui ajouter 2 ;\n",
    "    *   Afficher le résultat ;\n",
    "    *\tCalculer le double du nombre obtenu ;\n",
    "    *\tAfficher le résultat ;\n",
    "    *\tSoustraire 4 ;\n",
    "    *\tAfficher le résultat ;\n",
    "    *\tÉlever le résultat à la puissance 5 ; (opérateur <span style=\"color: green\">**</span> de Python) ;\n",
    "    *\tAfficher le résultat ;\n",
    "    *\tCalculer le reste de la division euclidienne du résultat par 11 ;\n",
    "    *\tAfficher le résultat.\n",
    "<br>\n",
    "<br>\n",
    "2.  Tester le programme avec les entrées-sorties suivantes :\n",
    "<div style=\"position: relative; left: 100px;\">\n",
    "    <table class=\"Entrées\">\n",
    "        <thead>\n",
    "            <tr><th>Entrée</th><th>Entrée</th><th>Entrée</th></tr>\n",
    "        </thead>\n",
    "        <tbody>\n",
    "            <tr><td>-2</td><td>2</td><td>0</td></tr>\n",
    "        </tbody>\n",
    "    </table>\n",
    "    <br>\n",
    "    <table class=\"Sorties\">\n",
    "        <thead>\n",
    "            <tr><th>Sortie</th><th>Sortie</th><th>Sortie</th></tr>\n",
    "        </thead>\n",
    "        <tbody>\n",
    "            <tr><td>0</td><td>4</td><td>2</td></tr>\n",
    "            <tr><td>0</td><td>8</td><td>4</td></tr>\n",
    "            <tr><td>-4</td><td>4</td><td>0</td></tr>\n",
    "            <tr><td>-1024</td><td>1024</td><td>0</td></tr>\n",
    "            <tr><td>10</td><td>1</td><td>0</td></tr>\n",
    "        </tbody>\n",
    "    </table>\n",
    "</div>"
   ]
  },
  {
   "cell_type": "markdown",
   "metadata": {},
   "source": [
    "#### Exercice 2 <span style=\"color: red\">(8 points)</span>\n",
    "On considère les programmes Scratch suivants :<br>\n",
    "<br>\n",
    "<span><img src=\"./scratch1.png\" style=\"position: absolute; top: 100px;\"></span>\n",
    "<span><img src=\"./scratch2.png\" style=\"position: relative; top: -10px; left: 350px; width: 350px; height: 490px;\"></span>"
   ]
  },
  {
   "cell_type": "markdown",
   "metadata": {},
   "source": [
    "1.  Regarder cette vidéo (notebook et programme interactif)."
   ]
  },
  {
   "cell_type": "markdown",
   "metadata": {},
   "source": [
    "2.  Écrire un programme en langage Python correspondant à chacun de ces programmes.\n",
    "    Le programme ne devra gérer que les cas d'entrées courants (pas de cas limite)."
   ]
  },
  {
   "cell_type": "code",
   "execution_count": null,
   "metadata": {},
   "outputs": [],
   "source": [
    "# Programme 1"
   ]
  },
  {
   "cell_type": "code",
   "execution_count": null,
   "metadata": {},
   "outputs": [],
   "source": [
    "# Programme 2"
   ]
  },
  {
   "cell_type": "markdown",
   "metadata": {},
   "source": [
    "<style>\n",
    "    .tableau1 {\n",
    "        position: relative;\n",
    "        left: 100px;\n",
    "    }\n",
    "    .tableau2 {\n",
    "        position: relative;\n",
    "        left: 100px;\n",
    "    }\n",
    "    .Entrées {\n",
    "        color: blue;        \n",
    "    }\n",
    "    .Sorties {\n",
    "        color: red;\n",
    "    }\n",
    "    .tableau1 th, td{\n",
    "    padding: 10px;\n",
    "    width: 100px;\n",
    "    }\n",
    "    .tableau2 th, td{\n",
    "    padding: 10px;\n",
    "    width: 250px;\n",
    "    }\n",
    "</style>\n",
    "2.  Tester les programmes avec les entrées-sorties correspondantes.\n",
    "<div class=\"tableau1\">\n",
    "    <table class=\"Entrées\">\n",
    "        <caption style=\"color: black\";>Programme 1</caption>\n",
    "        <thead>\n",
    "            <tr><th>Entrée</th><th>Entrée</th></tr>\n",
    "        </thead>\n",
    "        <tbody>\n",
    "            <tr><td>3.5</td><td>-5.42</td></tr>\n",
    "        </tbody>\n",
    "    </table>\n",
    "    <br>\n",
    "    <table class=\"Sorties\">\n",
    "        <thead>\n",
    "            <tr><th>Sortie</th><th>Sortie</th></tr>\n",
    "        </thead>\n",
    "        <tbody>\n",
    "            <tr><td>6.875</td><td>4.645</td></tr>\n",
    "        </tbody>\n",
    "    </table>\n",
    "</div>\n",
    "<br>\n",
    "<div class=\"tableau2\">\n",
    "    <table class=\"Entrées\">\n",
    "        <caption style=\"color: black\";>Programme 2</caption>\n",
    "        <thead>\n",
    "            <tr><th>Entrées</th><th>Entrées</th><th>Entrées</th></tr>\n",
    "        </thead>\n",
    "        <tbody>\n",
    "            <tr><td>5</td><td>-9</td><td>12</td></tr>\n",
    "            <tr><td>7</td><td>6</td><td>3</td></tr>\n",
    "        </tbody>\n",
    "    </table>\n",
    "    <br>\n",
    "    <table class=\"Sorties\">\n",
    "        <thead>\n",
    "            <tr><th>Sortie</th><th>Sortie</th><th>Sortie</th></tr>\n",
    "        </thead>\n",
    "        <tbody>\n",
    "            <tr><td>Le nombre x est égal à 5</td><td>Le nombre x est égal à -9</td><td>Le nombre x est égal à 12</td></tr>\n",
    "            <tr><td>Le nombre y est égal à 5.33</td><td>Le nombre y est égal à -6.5</td><td>Le nombre y est égal à 10.5</td></tr>\n",
    "        </tbody>\n",
    "    </table>\n",
    "</div>"
   ]
  },
  {
   "cell_type": "markdown",
   "metadata": {},
   "source": [
    "#### Exercice 3 <span style=\"color: red\">(4 points)</span>\n",
    "1. Écrire un programme en langage Python correspondant à l’algorithme ci-dessous.<br>\n",
    "Le programme ne devra gérer que les cas d'entrées courants (pas de cas limite).\n",
    "<br><br>\n",
    "<span style=\"color: blue\">res<span style=\"color: green\">&#x1F870;</span></span>0<br>\n",
    "<span style=\"color: green\">Afficher \"</span>Entrer le nombre n°1 : <span style=\"color: green\">\"</span><br>\n",
    "<span style=\"color: blue\">nbre1</span> <span style=\"color: green\">&#x1F870;</span> <span style=\"color: green\">Lire flottant</span><br>\n",
    "<span style=\"color: green\">Afficher \"</span>Entrer le nombre n°2 : <span style=\"color: green\">\"</span><br>\n",
    "<span style=\"color: blue\">nbre2</span> <span style=\"color: green\">&#x1F870;</span> <span style=\"color: green\">Lire entier</span><br>\n",
    "<span style=\"color: green\">Afficher \"</span>Entrer le nombre n°3 : <span style=\"color: green\">\"</span><br>\n",
    "<span style=\"color: blue\">nbre3</span> <span style=\"color: green\">&#x1F870;</span> <span style=\"color: green\">Lire entier</span><br>\n",
    "<span style=\"color: blue\">nbre1</span> <span style=\"color: green\">&#x1F870;</span> <span style=\"color: blue\">nbre2</span> <span style=\"color: green\">+</span> <span style=\"color: blue\">nbre3</span><br>\n",
    "<span style=\"color: blue\">nbre2</span> <span style=\"color: green\">&#x1F870;</span> <span style=\"color: blue\">nbre2</span> <span style=\"color: green\">**</span> 3<br>\n",
    "<span style=\"color: blue\">nbre3</span> <span style=\"color: green\">&#x1F870;</span> <span style=\"color: blue\">nbre3</span> <span style=\"color: green\">%</span> 3<br>\n",
    "<span style=\"color: blue\">res</span> <span style=\"color: green\">&#x1F870;</span> <span style=\"color: blue\">nbre1</span> <span style=\"color: green\">*</span>  <span style=\"color: blue\">nbre2</span> <span style=\"color: green\">+</span> <span style=\"color: blue\">nbre3</span><br>\n",
    "<span style=\"color: green\">Afficher <span style=\"color: green\">\"</span>Le résultat est égal à <span style=\"color: green\">\" + </span> <span style=\"color: blue\">res</span><span style=\"color: green\">  + \"</span>.<span style=\"color: green\">\"</span>\n",
    "\n"
   ]
  },
  {
   "cell_type": "code",
   "execution_count": null,
   "metadata": {},
   "outputs": [],
   "source": []
  },
  {
   "cell_type": "markdown",
   "metadata": {},
   "source": [
    "<style>\n",
    "    .Entrées {\n",
    "        color: blue;        \n",
    "    }\n",
    "    .Sorties {\n",
    "        color: red;\n",
    "    }\n",
    "    th, td{\n",
    "    padding: 10px;\n",
    "    width: 300px;\n",
    "    }\n",
    "</style>\n",
    "2.  Tester le programme avec les entrées-sorties suivantes :\n",
    "<div style=\"position: relative; left: 100px;\">\n",
    "    <table class=\"Entrées\">\n",
    "        <thead>\n",
    "            <tr><th>Entrées</th><th>Entrées</th><th>Entrées</th></tr>\n",
    "        </thead>\n",
    "        <tbody>\n",
    "            <tr><td>-8.02</td><td>12.365</td><td>123.587</td></tr>\n",
    "            <tr><td>5</td><td>-9</td><td>256</td></tr>\n",
    "            <tr><td>7</td><td>10</td><td>-987</td></tr>\n",
    "        </tbody>\n",
    "    </table>\n",
    "    <br>\n",
    "    <table class=\"Sorties\">\n",
    "        <thead>\n",
    "            <tr><th>Sortie</th><th>Sortie</th><th>Sortie</th></tr>\n",
    "        </thead>\n",
    "        <tbody>\n",
    "            <tr><td>Le résultat est égal à 1501.</td><td>Le résultat est égal à -728.</td><td>Le résultat est égal à -12264144896.</td></tr>\n",
    "        </tbody>\n",
    "    </table>\n",
    "</div>\n"
   ]
  },
  {
   "cell_type": "markdown",
   "metadata": {},
   "source": [
    "#### Exercice 4 <span style=\"color: red\">(4 points)</span>\n",
    "Sur [France-ioi](http://www.france-ioi.org/), niveau 1 chapitre 3 problème 7"
   ]
  },
  {
   "cell_type": "markdown",
   "metadata": {},
   "source": [
    "## Partie 4 : gestion des entrées-sorties\n",
    "1.  Regarder cette vidéo (gestion des cas limite de type entrée vide).<br>\n",
    "<br>\n",
    "2.  Regarder cette vidéo (gestion des cas limite où le type de la valeur entrée n'est pas celui attendu).<br>\n",
    "<br>\n",
    "### Je m'évalue\n",
    "#### Exercice 1 <span style=\"color: red\">(6 points)</span>\n",
    "Pour chacun des programmes suivants :\n",
    "*   Exécuter le code pour constater l'exception ;\n",
    "*   Corriger le code afin qu'il ne lève plus d'exception."
   ]
  },
  {
   "cell_type": "code",
   "execution_count": null,
   "metadata": {},
   "outputs": [],
   "source": [
    "# programme 1 : exception nameError"
   ]
  },
  {
   "cell_type": "code",
   "execution_count": null,
   "metadata": {},
   "outputs": [],
   "source": [
    "# programme 2 : exception indentError"
   ]
  },
  {
   "cell_type": "code",
   "execution_count": null,
   "metadata": {},
   "outputs": [],
   "source": [
    "# programme 3 : exception valueError lorsque l'entrée est de type float.\n",
    "# Afficher un message à l'attention de l'utilisateur(trice) lorsque ce cas se présente."
   ]
  },
  {
   "cell_type": "markdown",
   "metadata": {},
   "source": [
    "#### Exercice 2 <span style=\"color: red\">(6 points)</span>\n"
   ]
  }
 ],
 "metadata": {
  "kernelspec": {
   "display_name": "Python 3.9.13 64-bit (microsoft store)",
   "language": "python",
   "name": "python3"
  },
  "language_info": {
   "codemirror_mode": {
    "name": "ipython",
    "version": 3
   },
   "file_extension": ".py",
   "mimetype": "text/x-python",
   "name": "python",
   "nbconvert_exporter": "python",
   "pygments_lexer": "ipython3",
   "version": "3.9.13"
  },
  "orig_nbformat": 4,
  "vscode": {
   "interpreter": {
    "hash": "7cdd7129552ad58b819fb2ec57f441580b2ec97acfed3e343bcfb6d2b96c194d"
   }
  }
 },
 "nbformat": 4,
 "nbformat_minor": 2
}
